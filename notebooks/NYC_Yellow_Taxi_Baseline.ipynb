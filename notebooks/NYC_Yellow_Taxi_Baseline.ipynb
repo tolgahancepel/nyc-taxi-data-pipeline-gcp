{
 "cells": [
  {
   "cell_type": "markdown",
   "id": "debd48c0",
   "metadata": {},
   "source": [
    "# NYC Yellow Taxi Data Pipeline on Google Cloud Platform\n",
    "January 1, 2024\n",
    "\n",
    "## Introduction\n",
    "This Jupyter Notebook serves as a baseline for extracting fact table from the TLC Trip Record Data.  \n",
    "**Data Source:** https://www.nyc.gov/site/tlc/about/tlc-trip-record-data.page\n",
    "\n",
    "## Contact Information\n",
    "For any inquiries or suggestions, feel free to reach out:\n",
    "- Author: Tolgahan Cepel\n",
    "- Email: tolgahan.cepel@gmail.com"
   ]
  },
  {
   "cell_type": "code",
   "execution_count": null,
   "id": "eb745c0d",
   "metadata": {},
   "outputs": [],
   "source": [
    "import pandas as pd"
   ]
  },
  {
   "cell_type": "code",
   "execution_count": null,
   "id": "96fdb6c6",
   "metadata": {},
   "outputs": [],
   "source": [
    "# See \"Yellow Taxi Trip Records\" in Data Source\n",
    "df = pd.read_parquet('yellow_tripdata_2023-10.parquet')"
   ]
  },
  {
   "cell_type": "code",
   "execution_count": null,
   "id": "b22a1d4c",
   "metadata": {},
   "outputs": [],
   "source": [
    "df.head()"
   ]
  },
  {
   "cell_type": "code",
   "execution_count": null,
   "id": "82a39f02",
   "metadata": {},
   "outputs": [],
   "source": [
    "print(df.count())"
   ]
  },
  {
   "cell_type": "code",
   "execution_count": null,
   "id": "7591c8b7",
   "metadata": {},
   "outputs": [],
   "source": [
    "df.info()"
   ]
  },
  {
   "cell_type": "code",
   "execution_count": null,
   "id": "f11b265c",
   "metadata": {},
   "outputs": [],
   "source": [
    "df.head()"
   ]
  },
  {
   "cell_type": "code",
   "execution_count": null,
   "id": "86ec92e1",
   "metadata": {},
   "outputs": [],
   "source": [
    "fact_taxi_trips = df[[\"VendorID\", \"RatecodeID\", \"store_and_fwd_flag\", \"PULocationID\", \"DOLocationID\",\n",
    "                      \"payment_type\", \"passenger_count\", \"trip_distance\", \"fare_amount\", \"extra\", \"mta_tax\",\n",
    "                      \"tip_amount\", \"tolls_amount\", \"improvement_surcharge\", \"total_amount\"]]"
   ]
  },
  {
   "cell_type": "code",
   "execution_count": null,
   "id": "6fa96952",
   "metadata": {},
   "outputs": [],
   "source": [
    "fact_taxi_trips = fact_taxi_trips.rename(\n",
    "    columns={\"VendorID\": \"vendor_id\",\n",
    "             \"RatecodeID\": \"rate_code_id\",\n",
    "             \"PULocationID\": \"pu_location_id\",\n",
    "             \"DOLocationID\": \"do_location_id\"}\n",
    ")"
   ]
  },
  {
   "cell_type": "code",
   "execution_count": null,
   "id": "01bb2402",
   "metadata": {},
   "outputs": [],
   "source": [
    "fact_taxi_trips.info()"
   ]
  },
  {
   "cell_type": "code",
   "execution_count": null,
   "id": "ceed105e",
   "metadata": {},
   "outputs": [],
   "source": [
    "fact_taxi_trips.to_parquet(\"fact_yellow_tripdata_202310.parquet\")"
   ]
  }
 ],
 "metadata": {
  "kernelspec": {
   "display_name": "Python 3 (ipykernel)",
   "language": "python",
   "name": "python3"
  },
  "language_info": {
   "codemirror_mode": {
    "name": "ipython",
    "version": 3
   },
   "file_extension": ".py",
   "mimetype": "text/x-python",
   "name": "python",
   "nbconvert_exporter": "python",
   "pygments_lexer": "ipython3",
   "version": "3.9.13"
  }
 },
 "nbformat": 4,
 "nbformat_minor": 5
}
